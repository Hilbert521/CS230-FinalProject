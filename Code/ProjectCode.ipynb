{
 "cells": [
  {
   "cell_type": "code",
   "execution_count": 6,
   "metadata": {
    "colab": {
     "autoexec": {
      "startup": false,
      "wait_interval": 0
     },
     "base_uri": "https://localhost:8080/",
     "height": 1347,
     "output_extras": [
      {
       "item_id": 15
      },
      {
       "item_id": 43
      },
      {
       "item_id": 72
      },
      {
       "item_id": 101
      },
      {
       "item_id": 126
      },
      {
       "item_id": 167
      },
      {
       "item_id": 208
      },
      {
       "item_id": 246
      },
      {
       "item_id": 276
      },
      {
       "item_id": 301
      },
      {
       "item_id": 316
      }
     ]
    },
    "colab_type": "code",
    "executionInfo": {
     "elapsed": 259308,
     "status": "ok",
     "timestamp": 1519418932673,
     "user": {
      "displayName": "David Troner",
      "photoUrl": "//lh6.googleusercontent.com/-Qsk0YFyokns/AAAAAAAAAAI/AAAAAAAAAA8/SH9fYhiAFZ0/s50-c-k-no/photo.jpg",
      "userId": "113969831701106809941"
     },
     "user_tz": 480
    },
    "id": "kBUqTo6HWZO3",
    "outputId": "2bd196c1-f4c7-48a8-eb67-87d1fd4095dc"
   },
   "outputs": [],
   "source": [
    "!pip install -q keras\n",
    "import keras\n",
    "from keras.models import Sequential\n",
    "from keras.layers import Dense, Activation, BatchNormalization\n",
    "from keras.optimizers import SGD\n",
    "from keras import regularizers, optimizers\n",
    "import numpy as np\n",
    "import tensorflow as tf\n",
    "import matplotlib.pyplot as plt\n",
    "import pandas as pd\n",
    "import os\n",
    "import numpy as np\n",
    "\n",
    "def LoadDATA():\n",
    "    filestr = os.getcwd()+'\\\\..\\\\Data\\\\MFCC_Data\\\\'\n",
    "    Xtrain = filestr+'X_train.csv'  \n",
    "    Ytrain = filestr+'Y_train.csv'  \n",
    "    Xdev = filestr+'X_dev.csv'\n",
    "    Ydev = filestr+'Y_dev.csv'  \n",
    "    Xtest = filestr+'X_test.csv'\n",
    "    Ytest = filestr+'Y_test.csv' \n",
    "    Xdemo = filestr+'X_demo.csv'\n",
    "    Ydemo = filestr+'Y_demo.csv'\n",
    "    \n",
    "    x_train = pd.read_csv(Xtrain).values\n",
    "    y_train = pd.read_csv(Ytrain).values  \n",
    "    x_dev = pd.read_csv(Xdev).values\n",
    "    y_dev = pd.read_csv(Ydev).values\n",
    "    x_test = pd.read_csv(Xtest).values\n",
    "    y_test = pd.read_csv(Ytest).values\n",
    "    x_demo = pd.read_csv(Xdemo).values\n",
    "    y_demo = pd.read_csv(Ydemo).values\n",
    "  \n",
    "    return x_train,x_test,x_dev,y_dev,y_train,y_test,x_demo,y_demo\n",
    "\n",
    "\n",
    "def NNcode(x):\n",
    "  \n",
    "  Lparam     = int(x[0])\n",
    "  bsizeparam = int(x[1])\n",
    "  L2param    = int(x[2])/100\n",
    "  Nparam     = int(x[3])\n",
    "  \n",
    "  #################### Hyperparameters ####################\n",
    "  show_plots = 1                   # Bool, to show training plots\n",
    "  L = Lparam                       # num layers in network\n",
    "  bsize = bsizeparam               # minibatch size\n",
    "  epochnum = 25                    # num epochs for optimization\n",
    "  learning_rate = 0.001            # params for Adam\n",
    "  learning_decay = 0.00001         # learning decay for Adam\n",
    "  BN_mom = 0.99                    # momentum for batch norm\n",
    "  L2 = np.ones(L)*L2param          # L2 lambda parameters for each layer\n",
    "  N = np.append(np.ones(L-1)*Nparam,classes)   # num nodes/layer for each hidden layer\n",
    "  #########################################################\n",
    "  params = {}\n",
    "  \n",
    "  for l in range(1,L+1):\n",
    "      params[\"L2_\"+str(l)] = int(L2[l-1]*100)/100\n",
    "      params[\"N\"+str(l)] = int(N[l-1])\n",
    "\n",
    "  ## NN Model (X->RELU->RELU->RELU->RELU->SOFTMAX)\n",
    "  model = Sequential()\n",
    "  model.add(Dense(params['N1'], activation='relu', input_dim=n_vec,use_bias=True, kernel_initializer='glorot_uniform', bias_initializer='zeros', kernel_regularizer=regularizers.l2(params[\"L2_1\"]), bias_regularizer=None, activity_regularizer=None, kernel_constraint=None, bias_constraint=None,name='fc1'))\n",
    "  model.add(BatchNormalization(axis=1, momentum=BN_mom, epsilon=0.001, center=True, scale=True, beta_initializer='zeros', gamma_initializer='ones', moving_mean_initializer='zeros', moving_variance_initializer='ones',name='bn1'))\n",
    "  for l in range(2,L-1):\n",
    "      model.add(Dense(params['N'+str(l)], activation='relu',use_bias=True, kernel_initializer='glorot_uniform', bias_initializer='zeros', kernel_regularizer=regularizers.l2(params[\"L2_\" + str(l)]), bias_regularizer=None, activity_regularizer=None, kernel_constraint=None, bias_constraint=None,name='fc'+str(l)))\n",
    "      model.add(BatchNormalization(axis=1, momentum=BN_mom, epsilon=0.001, center=True, scale=True, beta_initializer='zeros', gamma_initializer='ones', moving_mean_initializer='zeros', moving_variance_initializer='ones',name='bn'+str(l)))\n",
    "  model.add(Dense(params['N'+str(L)], activation='softmax',use_bias=True, kernel_initializer='glorot_uniform', bias_initializer='zeros', kernel_regularizer=regularizers.l2(params[\"L2_\" + str(L)]), bias_regularizer=None, activity_regularizer=None, kernel_constraint=None, bias_constraint=None,name='fc'+str(L)))\n",
    "  \n",
    "  ## Compile and Train Model\n",
    "  adam_opt = optimizers.Adam(lr=learning_rate, beta_1=0.9, beta_2=0.999, epsilon=None, decay=learning_decay, amsgrad=False)\n",
    "  model.compile(loss='categorical_crossentropy',optimizer=adam_opt,metrics=['accuracy'])\n",
    "  earlyStopping = keras.callbacks.EarlyStopping(monitor='val_loss',min_delta=0,patience=10, verbose=0, mode='auto')\n",
    "  history = model.fit(x_train, y_train,batch_size=bsize,epochs=epochnum,verbose=1,callbacks=[earlyStopping],validation_data=(x_dev, y_dev))\n",
    "  \n",
    "  ## Plots\n",
    "  if show_plots == 1:\n",
    "    #  \"Accuracy\"\n",
    "    plt.plot(history.history['acc'],label=\"train\")\n",
    "    plt.plot(history.history['val_acc'],label=\"dev\")\n",
    "    plt.title('Model Accuracy')\n",
    "    plt.ylabel('Accuracy')\n",
    "    plt.xlabel('Epoch')\n",
    "    plt.legend()\n",
    "    plt.show()\n",
    "    # \"Loss\"\n",
    "    plt.plot(history.history['loss'],label=\"train\")\n",
    "    plt.plot(history.history['val_loss'],label=\"dev\")\n",
    "    plt.title('Model Loss')\n",
    "    plt.ylabel('Loss')\n",
    "    plt.xlabel('Epoch')\n",
    "    plt.legend()\n",
    "    plt.show()\n",
    "  \n",
    "    ## Test Model\n",
    "    preds1 = model.evaluate(x_dev, y_dev, batch_size=bsize)\n",
    "    preds2 = model.evaluate(x_test, y_test, batch_size=bsize)\n",
    "    print (\"Dev Accuracy = \" + str(preds1[1]))\n",
    "    print (\"Test Accuracy = \" + str(preds2[1]))\n",
    "    print(\"with X = \" + str(x.T))\n",
    "  \n",
    "    ## Predictions on Demo Set\n",
    "    y_hat = model.predict(x_demo, batch_size=bsize)\n",
    "  \n",
    "  return preds2[1], y_hat, model"
   ]
  },
  {
   "cell_type": "code",
   "execution_count": null,
   "metadata": {
    "colab": {
     "autoexec": {
      "startup": false,
      "wait_interval": 0
     }
    },
    "colab_type": "code",
    "id": "vd74nlg5aCWW",
    "scrolled": false
   },
   "outputs": [],
   "source": [
    "# Grid Search over Hyperparameters\n",
    "x_train,x_test,x_dev,y_dev,y_train,y_test,x_demo,y_demo = LoadDATA()\n",
    "classes = y_train.shape[1]  # num speakers\n",
    "n_vec =   x_train.shape[1]  # length of feature vector\n",
    "m_train = x_train.shape[0]  # num training examples\n",
    "m_test =  x_test.shape[0]   # num test examples\n",
    "\n",
    "L_list = [2,5,7,10]\n",
    "Bsize_list = [16,32,64,256]\n",
    "L2_list = [0,.1,.3,.5,.7,1]\n",
    "N_list = [10,100,390,500,1000]\n",
    "\n",
    "len1 = len(L_list)\n",
    "len2 = len(Bsize_list)\n",
    "len3 = len(L2_list)\n",
    "len4 = len(N_list)\n",
    "len_total = len1*len2*len3*len4\n",
    "count = 0\n",
    "x = np.zeros((4,1))\n",
    "params = np.zeros((len_total,4))\n",
    "test_acc = np.zeros((len_total,1))\n",
    "\n",
    "for i1 in range(len1):\n",
    "    for i2 in range(len2):\n",
    "        for i3 in range(len3):\n",
    "            for i4 in range(len4):\n",
    "                x[0] = L_list[i1]\n",
    "                x[1] = Bsize_list[i2]\n",
    "                x[2] = L2_list[i3]\n",
    "                x[3] = N_list[i4]\n",
    "                test_acc[count] = NNcode(x)\n",
    "                params[count,:] = np.array([x[0],x[1],x[2],x[3]]).T        \n",
    "                print('Run '+str(count+1)+' out of '+str(len_total))\n",
    "                count = count+1\n",
    "                \n",
    "max_ind = np.argmax(test_acc)\n",
    "print('Max Accuracy = '+str(test_acc[max_ind,0]*100)+'%')\n",
    "print('with L = '+str(params[max_ind,0])+', Bsize = '+str(params[max_ind,1])+', L2 = '+str(params[max_ind,2])+', N = '+str(params[max_ind,3]))\n",
    "\n",
    "## Plots\n",
    "X1 = params[:,0]\n",
    "X2 = params[:,1]\n",
    "X3 = params[:,2]\n",
    "X4 = params[:,3]\n",
    "Y = test_acc\n",
    "\n",
    "plt.plot(X1,Y,marker='o',linestyle='None',markersize=12)\n",
    "plt.title('Test Accuracy vs NN Length')\n",
    "plt.ylabel('Test Accuracy')\n",
    "plt.xlabel('NN Length')\n",
    "plt.show()\n",
    "\n",
    "plt.plot(X2,Y,marker='o',linestyle='None',markersize=12)\n",
    "plt.title('Test Accuracy vs Batch Size')\n",
    "plt.ylabel('Test Accuracy')\n",
    "plt.xlabel('Batch Size')\n",
    "plt.show()\n",
    "\n",
    "plt.plot(X3,Y,marker='o',linestyle='None',markersize=12)\n",
    "plt.title('Test Accuracy vs L2 Lambda')\n",
    "plt.ylabel('Test Accuracy')\n",
    "plt.xlabel('Lambda')\n",
    "plt.show()\n",
    "\n",
    "plt.plot(X4,Y,marker='o',linestyle='None',markersize=12)\n",
    "plt.title('Test Accuracy vs Nodes/Layer')\n",
    "plt.ylabel('Test Accuracy')\n",
    "plt.xlabel('Nodes/Layer')\n",
    "plt.show()"
   ]
  },
  {
   "cell_type": "code",
   "execution_count": 7,
   "metadata": {},
   "outputs": [
    {
     "name": "stdout",
     "output_type": "stream",
     "text": [
      "Train on 290979 samples, validate on 7656 samples\n",
      "Epoch 1/25\n",
      "290979/290979 [==============================] - 136s 469us/step - loss: 0.8099 - acc: 0.7444 - val_loss: 0.3795 - val_acc: 0.8834\n",
      "Epoch 2/25\n",
      "290979/290979 [==============================] - 173s 596us/step - loss: 0.3495 - acc: 0.8856 - val_loss: 0.2277 - val_acc: 0.9244\n",
      "Epoch 3/25\n",
      "290979/290979 [==============================] - 153s 526us/step - loss: 0.2307 - acc: 0.9237 - val_loss: 0.1595 - val_acc: 0.9483\n",
      "Epoch 4/25\n",
      "290979/290979 [==============================] - 170s 583us/step - loss: 0.1706 - acc: 0.9434 - val_loss: 0.1255 - val_acc: 0.9591\n",
      "Epoch 5/25\n",
      "290979/290979 [==============================] - 186s 639us/step - loss: 0.1345 - acc: 0.9549 - val_loss: 0.1000 - val_acc: 0.9681\n",
      "Epoch 6/25\n",
      "290979/290979 [==============================] - 164s 564us/step - loss: 0.1094 - acc: 0.9634 - val_loss: 0.0953 - val_acc: 0.9687\n",
      "Epoch 7/25\n",
      "290979/290979 [==============================] - 143s 493us/step - loss: 0.0914 - acc: 0.9690 - val_loss: 0.0760 - val_acc: 0.9768\n",
      "Epoch 8/25\n",
      "290979/290979 [==============================] - 140s 481us/step - loss: 0.0779 - acc: 0.9735 - val_loss: 0.0786 - val_acc: 0.9734\n",
      "Epoch 9/25\n",
      "290979/290979 [==============================] - 131s 449us/step - loss: 0.0672 - acc: 0.9772 - val_loss: 0.0704 - val_acc: 0.9777\n",
      "Epoch 10/25\n",
      "290979/290979 [==============================] - 119s 407us/step - loss: 0.0591 - acc: 0.9799 - val_loss: 0.0651 - val_acc: 0.9790\n",
      "Epoch 11/25\n",
      "290979/290979 [==============================] - 117s 402us/step - loss: 0.0524 - acc: 0.9823 - val_loss: 0.0593 - val_acc: 0.9826\n",
      "Epoch 12/25\n",
      "290979/290979 [==============================] - 118s 406us/step - loss: 0.0467 - acc: 0.9840 - val_loss: 0.0610 - val_acc: 0.9818\n",
      "Epoch 13/25\n",
      "290979/290979 [==============================] - 131s 451us/step - loss: 0.0419 - acc: 0.9855 - val_loss: 0.0531 - val_acc: 0.9842\n",
      "Epoch 14/25\n",
      "290979/290979 [==============================] - 130s 445us/step - loss: 0.0373 - acc: 0.9872 - val_loss: 0.0577 - val_acc: 0.9821\n",
      "Epoch 15/25\n",
      "290979/290979 [==============================] - 143s 490us/step - loss: 0.0345 - acc: 0.9882 - val_loss: 0.0513 - val_acc: 0.9856\n",
      "Epoch 16/25\n",
      "290979/290979 [==============================] - 131s 449us/step - loss: 0.0321 - acc: 0.9890 - val_loss: 0.0505 - val_acc: 0.9848\n",
      "Epoch 17/25\n",
      "290979/290979 [==============================] - 129s 442us/step - loss: 0.0286 - acc: 0.9904 - val_loss: 0.0509 - val_acc: 0.9855\n",
      "Epoch 18/25\n",
      "290979/290979 [==============================] - 134s 461us/step - loss: 0.0265 - acc: 0.9910 - val_loss: 0.0572 - val_acc: 0.9839\n",
      "Epoch 19/25\n",
      "290979/290979 [==============================] - 119s 408us/step - loss: 0.0248 - acc: 0.9915 - val_loss: 0.0445 - val_acc: 0.9863\n",
      "Epoch 20/25\n",
      "290979/290979 [==============================] - 110s 379us/step - loss: 0.0233 - acc: 0.9921 - val_loss: 0.0463 - val_acc: 0.9875\n",
      "Epoch 21/25\n",
      "290979/290979 [==============================] - 111s 382us/step - loss: 0.0215 - acc: 0.9927 - val_loss: 0.0550 - val_acc: 0.9851\n",
      "Epoch 22/25\n",
      "290979/290979 [==============================] - 111s 383us/step - loss: 0.0200 - acc: 0.9931 - val_loss: 0.0476 - val_acc: 0.9867\n",
      "Epoch 23/25\n",
      "290979/290979 [==============================] - 123s 424us/step - loss: 0.0191 - acc: 0.9935 - val_loss: 0.0432 - val_acc: 0.9888\n",
      "Epoch 24/25\n",
      "290979/290979 [==============================] - 122s 419us/step - loss: 0.0176 - acc: 0.9942 - val_loss: 0.0432 - val_acc: 0.9869\n",
      "Epoch 25/25\n",
      "290979/290979 [==============================] - 112s 386us/step - loss: 0.0168 - acc: 0.9942 - val_loss: 0.0433 - val_acc: 0.9881\n"
     ]
    },
    {
     "data": {
      "image/png": "[encoded data removed]",
      "text/plain": [
       "<matplotlib.figure.Figure at 0x1893fbacb38>"
      ]
     },
     "metadata": {},
     "output_type": "display_data"
    },
    {
     "data": {
      "image/png": "[encoded data removed]",
      "text/plain": [
       "<matplotlib.figure.Figure at 0x1893fb69748>"
      ]
     },
     "metadata": {},
     "output_type": "display_data"
    },
    {
     "name": "stdout",
     "output_type": "stream",
     "text": [
      "7656/7656 [==============================] - 1s 126us/step\n",
      "7656/7656 [==============================] - 1s 142us/step\n",
      "Dev Accuracy = 0.9881138975966562\n",
      "Test Accuracy = 0.9840647859134893\n",
      "with X = [[  7.   64.    0.7 390. ]]\n"
     ]
    }
   ],
   "source": [
    "# Train and then Test on Demo Data\n",
    "x_train,x_test,x_dev,y_dev,y_train,y_test,x_demo,y_demo = LoadDATA()\n",
    "classes = y_train.shape[1]  # num speakers\n",
    "n_vec =   x_train.shape[1]  # length of feature vector\n",
    "m_train = x_train.shape[0]  # num training examples\n",
    "m_test =  x_test.shape[0]   # num test examples\n",
    "\n",
    "x = np.zeros((4,1))\n",
    "x[0] = 7\n",
    "x[1] = 64\n",
    "x[2] = .7\n",
    "x[3] = 390\n",
    "test_acc, y_hat, model = NNcode(x)\n",
    "\n",
    "model.save('NN_model.h5')\n",
    "np.savetxt(\"DemoData.csv\", y_hat, delimiter=\",\")"
   ]
  },
  {
   "cell_type": "code",
   "execution_count": null,
   "metadata": {},
   "outputs": [],
   "source": []
  }
 ],
 "metadata": {
  "colab": {
   "collapsed_sections": [],
   "default_view": {},
   "name": "ProjectCodeIDK.ipynb",
   "provenance": [],
   "version": "0.3.2",
   "views": {}
  },
  "kernelspec": {
   "display_name": "Python 3",
   "language": "python",
   "name": "python3"
  },
  "language_info": {
   "codemirror_mode": {
    "name": "ipython",
    "version": 3
   },
   "file_extension": ".py",
   "mimetype": "text/x-python",
   "name": "python",
   "nbconvert_exporter": "python",
   "pygments_lexer": "ipython3",
   "version": "3.5.4"
  }
 },
 "nbformat": 4,
 "nbformat_minor": 1
}
